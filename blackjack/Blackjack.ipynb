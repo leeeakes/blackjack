{
 "metadata": {
  "name": "",
  "signature": "sha256:bac0ffc1a71a42457ab0a75225330776d94a370535290db8f2157982426e1597"
 },
 "nbformat": 3,
 "nbformat_minor": 0,
 "worksheets": [
  {
   "cells": [
    {
     "cell_type": "code",
     "collapsed": false,
     "input": [
      "import card\n",
      "\n",
      "new_card = card.Card(\"King\", \"Clubs\")\n",
      "\n",
      "print(new_card.value)\n",
      "print(new_card.suit)\n",
      "print(new_card.rank)\n",
      "print(type(new_card))\n",
      "\n",
      "print(new_card)"
     ],
     "language": "python",
     "metadata": {},
     "outputs": [
      {
       "output_type": "stream",
       "stream": "stdout",
       "text": [
        "10\n",
        "Clubs\n",
        "King\n",
        "<class 'card.Card'>\n",
        "King of Clubs\n"
       ]
      }
     ],
     "prompt_number": 1
    },
    {
     "cell_type": "code",
     "collapsed": false,
     "input": [
      "import random\n",
      "from card import Card\n",
      "from deck import Deck\n",
      "\n",
      "new_deck = Deck()\n",
      "print(len(new_deck))\n",
      "print(new_deck)\n",
      "new_deck.shuffle_deck()\n",
      "print(new_deck)\n",
      "print(new_deck.draw())\n",
      "print(new_deck.draw())\n",
      "print(new_deck.draw())\n"
     ],
     "language": "python",
     "metadata": {},
     "outputs": [
      {
       "output_type": "stream",
       "stream": "stdout",
       "text": [
        "52\n",
        "[2 of Hearts, 3 of Hearts, 4 of Hearts, 5 of Hearts, 6 of Hearts, 7 of Hearts, 8 of Hearts, 9 of Hearts, 10 of Hearts, Jack of Hearts, Queen of Hearts, King of Hearts, Ace of Hearts, 2 of Diamonds, 3 of Diamonds, 4 of Diamonds, 5 of Diamonds, 6 of Diamonds, 7 of Diamonds, 8 of Diamonds, 9 of Diamonds, 10 of Diamonds, Jack of Diamonds, Queen of Diamonds, King of Diamonds, Ace of Diamonds, 2 of Spades, 3 of Spades, 4 of Spades, 5 of Spades, 6 of Spades, 7 of Spades, 8 of Spades, 9 of Spades, 10 of Spades, Jack of Spades, Queen of Spades, King of Spades, Ace of Spades, 2 of Clubs, 3 of Clubs, 4 of Clubs, 5 of Clubs, 6 of Clubs, 7 of Clubs, 8 of Clubs, 9 of Clubs, 10 of Clubs, Jack of Clubs, Queen of Clubs, King of Clubs, Ace of Clubs]\n",
        "[Jack of Hearts, Ace of Spades, 3 of Hearts, 7 of Spades, King of Diamonds, 10 of Diamonds, 4 of Spades, 9 of Spades, King of Spades, 2 of Clubs, Queen of Spades, Queen of Clubs, 7 of Clubs, 5 of Spades, 2 of Hearts, King of Hearts, Queen of Diamonds, 6 of Diamonds, 8 of Spades, 10 of Hearts, Queen of Hearts, 5 of Hearts, 7 of Hearts, 6 of Clubs, 7 of Diamonds, Ace of Clubs, King of Clubs, 3 of Diamonds, 8 of Clubs, 6 of Spades, 4 of Hearts, 4 of Clubs, 5 of Clubs, Jack of Clubs, 8 of Diamonds, 2 of Spades, 8 of Hearts, 10 of Clubs, Ace of Hearts, Jack of Spades, 9 of Diamonds, Jack of Diamonds, 4 of Diamonds, 3 of Clubs, 5 of Diamonds, Ace of Diamonds, 6 of Hearts, 3 of Spades, 9 of Hearts, 10 of Spades, 2 of Diamonds, 9 of Clubs]\n",
        "9 of Clubs\n",
        "2 of Diamonds\n",
        "10 of Spades\n"
       ]
      }
     ],
     "prompt_number": 7
    },
    {
     "cell_type": "code",
     "collapsed": false,
     "input": [
      "from card import Card\n",
      "from deck import Deck\n",
      "from player import Player\n",
      "\n",
      "new_deck = Deck()\n",
      "new_player = Player()\n",
      "new_deck.shuffle_deck()\n",
      "\n",
      "print(new_player.player_hit(new_deck))\n",
      "print(len(new_player))\n",
      "print(new_player)\n",
      "print(new_player.hand_value())\n",
      "#print(new_deck)\n"
     ],
     "language": "python",
     "metadata": {},
     "outputs": [
      {
       "output_type": "stream",
       "stream": "stdout",
       "text": [
        "None\n",
        "3\n",
        "[5 of Clubs, 4 of Hearts, 6 of Spades]\n",
        "15\n"
       ]
      }
     ],
     "prompt_number": 3
    },
    {
     "cell_type": "code",
     "collapsed": false,
     "input": [],
     "language": "python",
     "metadata": {},
     "outputs": []
    },
    {
     "cell_type": "code",
     "collapsed": false,
     "input": [
      "from card import Card\n",
      "from deck import Deck\n",
      "from player import Player\n",
      "\n",
      "new_deck = Deck()\n",
      "new_player = Player()\n",
      "new_player.hand = [Card(\"King\", \"Clubs\"), Card(9, \"Spades\")]\n",
      "\n",
      "\n",
      "print(len(new_player))\n",
      "print(new_player)\n",
      "print(new_player.hand_value())\n",
      "#print(new_deck)"
     ],
     "language": "python",
     "metadata": {},
     "outputs": [
      {
       "output_type": "stream",
       "stream": "stdout",
       "text": [
        "2\n",
        "[King of Clubs, 9 of Spades]\n",
        "19\n"
       ]
      }
     ],
     "prompt_number": 7
    }
   ],
   "metadata": {}
  }
 ]
}